{
 "cells": [
  {
   "cell_type": "markdown",
   "id": "0143739d-68b3-406b-b4fe-3e5bf9012948",
   "metadata": {},
   "source": [
    "# SRR from acquired LR FLAIR images"
   ]
  },
  {
   "cell_type": "markdown",
   "id": "f93951a9-d854-462e-9efa-55868cdb10b5",
   "metadata": {
    "tags": []
   },
   "source": [
    "### Import modules and define functions"
   ]
  },
  {
   "cell_type": "code",
   "execution_count": 1,
   "id": "6a60aa4d-e2f1-4c87-9a3c-daf6631dadb4",
   "metadata": {},
   "outputs": [],
   "source": [
    "import numpy as np\n",
    "import matplotlib.pyplot as plt\n",
    "import nibabel as nib\n",
    "\n",
    "import pylops\n",
    "import imwip\n",
    "import storm\n",
    "\n",
    "from time import time\n",
    "from tqdm import tqdm"
   ]
  },
  {
   "cell_type": "code",
   "execution_count": 3,
   "id": "ff91101d-abfd-4dff-857b-ef7bc98d77a1",
   "metadata": {},
   "outputs": [],
   "source": [
    "def show_orthoslices(image, cross = None, figsize = (18,6), cmap = \"gray\"):\n",
    "    slices = [image[cross[0], :, :], image[:, cross[1], :], image[:, :, cross[2]]]\n",
    "    dims = [(\"Dimension 2\", \"Dimension 3\"), (\"Dimension 1\", \"Dimension 3\"), (\"Dimension 1\", \"Dimension 2\")]\n",
    "\n",
    "    # create plots and save image\n",
    "    fig, axes = plt.subplots(1, len(slices), figsize = figsize)\n",
    "    ims = []\n",
    "    for i, slice in enumerate(slices):\n",
    "        # subplots, labels and colorbars\n",
    "        im = axes[i].imshow(slice.T, cmap = cmap, origin = \"lower\", interpolation = \"none\")\n",
    "        axes[i].set_xlabel(dims[i][0])\n",
    "        axes[i].set_ylabel(dims[i][1])\n",
    "        axes[i].set_aspect(slice.shape[0]/slice.shape[1])\n",
    "        axes[i].set_xticks([]) \n",
    "        axes[i].set_yticks([])\n",
    "        ims.append(im)\n",
    "\n",
    "    left = axes[0].get_position().x0\n",
    "    bottom = axes[0].get_position().y1 + 0.05\n",
    "    width = abs(axes[0].get_position().x0 - axes[2].get_position().x1)\n",
    "    height = 0.02\n",
    "    cax = fig.add_axes([left, bottom, width, height])\n",
    "    fig.colorbar(ims[0], cax=cax, orientation=\"horizontal\")\n",
    "    \n",
    "    plt.show()\n",
    "    plt.close()"
   ]
  }
 ],
 "metadata": {
  "kernelspec": {
   "display_name": "Python 3",
   "language": "python",
   "name": "python3"
  },
  "language_info": {
   "codemirror_mode": {
    "name": "ipython",
    "version": 3
   },
   "file_extension": ".py",
   "mimetype": "text/x-python",
   "name": "python",
   "nbconvert_exporter": "python",
   "pygments_lexer": "ipython3",
   "version": "3.9.7"
  }
 },
 "nbformat": 4,
 "nbformat_minor": 5
}
